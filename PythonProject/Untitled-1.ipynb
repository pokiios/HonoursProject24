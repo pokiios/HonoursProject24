{
 "cells": [
  {
   "cell_type": "code",
   "execution_count": null,
   "metadata": {},
   "outputs": [],
   "source": [
    "import neurokit2 as nk\n",
    "import pandas as pd\n",
    "import numpy as np\n",
    "import seaborn as sns\n"
   ]
  },
  {
   "cell_type": "code",
   "execution_count": null,
   "metadata": {},
   "outputs": [],
   "source": [
    "ecg = nk.data(dataset=\"ecg_1000hz\")"
   ]
  },
  {
   "cell_type": "code",
   "execution_count": null,
   "metadata": {},
   "outputs": [
    {
     "data": {
      "text/plain": [
       "Traceback (most recent call last):\n",
       "  File \"c:\\Users\\lgmck\\.vscode\\extensions\\ms-python.python-2024.20.0-win32-x64\\python_files\\python_server.py\", line 130, in exec_user_input\n",
       "    retval = callable_(user_input, user_globals)\n",
       "  File \"<string>\", line 1, in <module>\n",
       "  File \"d:\\_School\\HonoursProject24\\PythonProject\\venv\\Lib\\site-packages\\neurokit2\\signal\\signal_plot.py\", line 173, in signal_plot\n",
       "    _ = signal[continuous_columns].plot(subplots=False, sharex=True, **kwargs)\n",
       "  File \"d:\\_School\\HonoursProject24\\PythonProject\\venv\\Lib\\site-packages\\pandas\\plotting\\_core.py\", line 1030, in __call__\n",
       "    return plot_backend.plot(data, kind=kind, **kwargs)\n",
       "           ~~~~~~~~~~~~~~~~~^^^^^^^^^^^^^^^^^^^^^^^^^^^\n",
       "  File \"d:\\_School\\HonoursProject24\\PythonProject\\venv\\Lib\\site-packages\\pandas\\plotting\\_matplotlib\\__init__.py\", line 71, in plot\n",
       "    plot_obj.generate()\n",
       "    ~~~~~~~~~~~~~~~~~^^\n",
       "  File \"d:\\_School\\HonoursProject24\\PythonProject\\venv\\Lib\\site-packages\\pandas\\plotting\\_matplotlib\\core.py\", line 500, in generate\n",
       "    fig = self.fig\n",
       "          ^^^^^^^^\n",
       "  File \"properties.pyx\", line 36, in pandas._libs.properties.CachedProperty.__get__\n",
       "  File \"d:\\_School\\HonoursProject24\\PythonProject\\venv\\Lib\\site-packages\\pandas\\plotting\\_matplotlib\\core.py\", line 555, in fig\n",
       "    return self._axes_and_fig[1]\n",
       "           ^^^^^^^^^^^^^^^^^^\n",
       "  File \"properties.pyx\", line 36, in pandas._libs.properties.CachedProperty.__get__\n",
       "  File \"d:\\_School\\HonoursProject24\\PythonProject\\venv\\Lib\\site-packages\\pandas\\plotting\\_matplotlib\\core.py\", line 580, in _axes_and_fig\n",
       "    fig = self.plt.figure(figsize=self.figsize)\n",
       "  File \"d:\\_School\\HonoursProject24\\PythonProject\\venv\\Lib\\site-packages\\matplotlib\\pyplot.py\", line 1027, in figure\n",
       "    manager = new_figure_manager(\n",
       "        num, figsize=figsize, dpi=dpi,\n",
       "        facecolor=facecolor, edgecolor=edgecolor, frameon=frameon,\n",
       "        FigureClass=FigureClass, **kwargs)\n",
       "  File \"d:\\_School\\HonoursProject24\\PythonProject\\venv\\Lib\\site-packages\\matplotlib\\pyplot.py\", line 550, in new_figure_manager\n",
       "    return _get_backend_mod().new_figure_manager(*args, **kwargs)\n",
       "           ~~~~~~~~~~~~~~~~~~~~~~~~~~~~~~~~~~~~~^^^^^^^^^^^^^^^^^\n",
       "  File \"d:\\_School\\HonoursProject24\\PythonProject\\venv\\Lib\\site-packages\\matplotlib\\backend_bases.py\", line 3507, in new_figure_manager\n",
       "    return cls.new_figure_manager_given_figure(num, fig)\n",
       "           ~~~~~~~~~~~~~~~~~~~~~~~~~~~~~~~~~~~^^^^^^^^^^\n",
       "  File \"d:\\_School\\HonoursProject24\\PythonProject\\venv\\Lib\\site-packages\\matplotlib\\backend_bases.py\", line 3512, in new_figure_manager_given_figure\n",
       "    return cls.FigureCanvas.new_manager(figure, num)\n",
       "           ~~~~~~~~~~~~~~~~~~~~~~~~~~~~^^^^^^^^^^^^^\n",
       "  File \"d:\\_School\\HonoursProject24\\PythonProject\\venv\\Lib\\site-packages\\matplotlib\\backend_bases.py\", line 1797, in new_manager\n",
       "    return cls.manager_class.create_with_canvas(cls, figure, num)\n",
       "           ~~~~~~~~~~~~~~~~~~~~~~~~~~~~~~~~~~~~^^^^^^^^^^^^^^^^^^\n",
       "  File \"d:\\_School\\HonoursProject24\\PythonProject\\venv\\Lib\\site-packages\\matplotlib\\backends\\_backend_tk.py\", line 483, in create_with_canvas\n",
       "    window = tk.Tk(className=\"matplotlib\")\n",
       "  File \"C:\\Users\\lgmck\\AppData\\Local\\Programs\\Python\\Python313\\Lib\\tkinter\\__init__.py\", line 2459, in __init__\n",
       "    self.tk = _tkinter.create(screenName, baseName, className, interactive, wantobjects, useTk, sync, use)\n",
       "              ~~~~~~~~~~~~~~~^^^^^^^^^^^^^^^^^^^^^^^^^^^^^^^^^^^^^^^^^^^^^^^^^^^^^^^^^^^^^^^^^^^^^^^^^^^^^\n",
       "_tkinter.TclError: Can't find a usable init.tcl in the following directories: \n",
       "    C:/Users/lgmck/AppData/Local/Programs/Python/Python313/lib/tcl8.6 C:/Users/lgmck/AppData/Local/Programs/Python/lib/tcl8.6 C:/Users/lgmck/AppData/Local/Programs/lib/tcl8.6 C:/Users/lgmck/AppData/Local/Programs/Python/library C:/Users/lgmck/AppData/Local/Programs/library C:/Users/lgmck/AppData/Local/Programs/tcl8.6.14/library C:/Users/lgmck/AppData/Local/tcl8.6.14/library\n",
       "\n",
       "\n",
       "\n",
       "This probably means that Tcl wasn't installed properly.\n",
       "\n",
       "\n"
      ]
     },
     "metadata": {},
     "output_type": "display_data"
    }
   ],
   "source": [
    "nk.signal_plot(ecg[0:10000], sampling_rate=1000)"
   ]
  },
  {
   "cell_type": "code",
   "execution_count": null,
   "metadata": {},
   "outputs": [],
   "source": []
  }
 ],
 "metadata": {
  "language_info": {
   "name": "python"
  }
 },
 "nbformat": 4,
 "nbformat_minor": 2
}
